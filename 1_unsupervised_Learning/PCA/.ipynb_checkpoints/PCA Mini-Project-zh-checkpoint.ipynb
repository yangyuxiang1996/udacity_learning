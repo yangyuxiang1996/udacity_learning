{
 "cells": [
  {
   "cell_type": "markdown",
   "metadata": {},
   "source": [
    "# PCA 迷你项目 \n",
    "### 使用特征脸方法和 SVM 进行脸部识别\n",
    "我们在讨论 PCA 时花了很长的时间讨论理论问题，因此，在此迷你项目中，我们将请你研究一些 sklearn 代码。特征脸代码很有趣并且很丰富，足以当做此迷你项目的实验台。\n",
    "\n",
    "\n",
    "\n",
    "注意：\n",
    "在此示例中使用的数据集来自“[Labeled Faces in the Wild](http://vis-www.cs.umass.edu/lfw/)”，亦称为 [LFW_ Download](http://vis-www.cs.umass.edu/lfw/lfw-funneled.tgz) (233MB) 并经过预处理。这是[原始数据](http://scikit-learn.org/0.15/auto_examples/applications/face_recognition.html)。"
   ]
  },
  {
   "cell_type": "code",
   "execution_count": 2,
   "metadata": {},
   "outputs": [],
   "source": [
    "from time import time\n",
    "\n",
    "import logging\n",
    "import pylab as pl\n",
    "import numpy as np\n",
    "\n",
    "from sklearn.model_selection import train_test_split, GridSearchCV\n",
    "from sklearn.datasets import fetch_lfw_people\n",
    "from sklearn.metrics import classification_report, confusion_matrix\n",
    "from sklearn.decomposition import PCA\n",
    "from sklearn.svm import SVC"
   ]
  },
  {
   "cell_type": "markdown",
   "metadata": {},
   "source": [
    "## 加载数据集"
   ]
  },
  {
   "cell_type": "code",
   "execution_count": 4,
   "metadata": {},
   "outputs": [
    {
     "name": "stderr",
     "output_type": "stream",
     "text": [
      "Downloading LFW metadata: https://ndownloader.figshare.com/files/5976009\n",
      "Downloading LFW metadata: https://ndownloader.figshare.com/files/5976006\n",
      "Downloading LFW data (~200MB): https://ndownloader.figshare.com/files/5976015\n"
     ]
    },
    {
     "name": "stdout",
     "output_type": "stream",
     "text": [
      "Total dataset size:\n",
      "n_samples: 1288\n",
      "n_features: 1850\n",
      "n_classes: 7\n"
     ]
    }
   ],
   "source": [
    "# Download the data, if not already on disk and load it as numpy arrays\n",
    "lfw_people = fetch_lfw_people('data', min_faces_per_person=70, resize=0.4)\n",
    "\n",
    "# introspect the images arrays to find the shapes (for plotting)\n",
    "n_samples, h, w = lfw_people.images.shape\n",
    "np.random.seed(42)\n",
    "\n",
    "# for machine learning we use the data directly (as relative pixel\n",
    "# position info is ignored by this model)\n",
    "X = lfw_people.data\n",
    "n_features = X.shape[1]\n",
    "\n",
    "# the label to predict is the id of the person\n",
    "y = lfw_people.target\n",
    "target_names = lfw_people.target_names\n",
    "n_classes = target_names.shape[0]\n",
    "\n",
    "print(\"Total dataset size:\")\n",
    "print(\"n_samples: %d\" % n_samples)\n",
    "print(\"n_features: %d\" % n_features)\n",
    "print(\"n_classes: %d\" % n_classes)"
   ]
  },
  {
   "cell_type": "markdown",
   "metadata": {},
   "source": [
    "### 拆分为训练集和测试集"
   ]
  },
  {
   "cell_type": "code",
   "execution_count": 9,
   "metadata": {},
   "outputs": [],
   "source": [
    "X_train, X_test, y_train, y_test = train_test_split(X, y, test_size=0.25, random_state=42)"
   ]
  },
  {
   "cell_type": "code",
   "execution_count": 11,
   "metadata": {},
   "outputs": [
    {
     "data": {
      "text/plain": [
       "(966, 1850)"
      ]
     },
     "execution_count": 11,
     "metadata": {},
     "output_type": "execute_result"
    }
   ],
   "source": [
    "X_train.shape"
   ]
  },
  {
   "cell_type": "markdown",
   "metadata": {},
   "source": [
    "## 计算 PCA\n",
    "\n",
    "我们现在可以对脸部数据集（当做无标签数据集）计算 [PCA](http://scikit-learn.org/stable/modules/generated/sklearn.decomposition.PCA.html)（特征脸）了：无监督式特征提取/降维。"
   ]
  },
  {
   "cell_type": "code",
   "execution_count": 12,
   "metadata": {},
   "outputs": [
    {
     "name": "stdout",
     "output_type": "stream",
     "text": [
      "Extracting the top 150 eigenfaces from 966 faces.\n",
      "done in 0.124s\n"
     ]
    }
   ],
   "source": [
    "n_components = 150\n",
    "\n",
    "print(\"Extracting the top %d eigenfaces from %d faces.\" % (n_components, X_train.shape[0]))\n",
    "t0 = time()\n",
    "\n",
    "# TODO: Create an instance of PCA, initializing with n_components=n_components and whiten=True\n",
    "pca = PCA(n_components=n_components, whiten=True, svd_solver='randomized')\n",
    "\n",
    "#TODO: pass the training dataset (X_train) to pca's 'fit()' method\n",
    "pca = pca.fit(X_train)\n",
    "\n",
    "print(\"done in %.3fs\" % (time() - t0))"
   ]
  },
  {
   "cell_type": "markdown",
   "metadata": {},
   "source": [
    "将输入数据投射到特征脸标准正交基"
   ]
  },
  {
   "cell_type": "code",
   "execution_count": 13,
   "metadata": {},
   "outputs": [
    {
     "name": "stdout",
     "output_type": "stream",
     "text": [
      "done in 0.017s\n"
     ]
    }
   ],
   "source": [
    "eigenfaces = pca.components_.reshape((n_components, h, w))\n",
    "\n",
    "t0 = time()\n",
    "X_train_pca = pca.transform(X_train)\n",
    "X_test_pca = pca.transform(X_test)\n",
    "print(\"done in %.3fs\" % (time() - t0))"
   ]
  },
  {
   "cell_type": "markdown",
   "metadata": {},
   "source": [
    "## 训练 SVM 分类模型\n",
    "\n",
    "我们将 [SVM 分类器](http://scikit-learn.org/stable/modules/generated/sklearn.svm.SVC.html)拟合到训练集中。我们将使用 [GridSearchCV](http://scikit-learn.org/stable/modules/generated/sklearn.model_selection.GridSearchCV.html) 为该分类器找到一组合适的参数。"
   ]
  },
  {
   "cell_type": "code",
   "execution_count": 15,
   "metadata": {},
   "outputs": [
    {
     "name": "stderr",
     "output_type": "stream",
     "text": [
      "D:\\Anaconda3\\lib\\site-packages\\sklearn\\model_selection\\_split.py:2053: FutureWarning: You should specify a value for 'cv' instead of relying on the default value. The default value will change from 3 to 5 in version 0.22.\n",
      "  warnings.warn(CV_WARNING, FutureWarning)\n"
     ]
    },
    {
     "name": "stdout",
     "output_type": "stream",
     "text": [
      "Best estimator found by grid search:\n",
      "SVC(C=1000.0, cache_size=200, class_weight='balanced', coef0=0.0,\n",
      "  decision_function_shape='ovr', degree=3, gamma=0.001, kernel='rbf',\n",
      "  max_iter=-1, probability=False, random_state=42, shrinking=True,\n",
      "  tol=0.001, verbose=False)\n"
     ]
    }
   ],
   "source": [
    "param_grid = {\n",
    "         'C': [1e3, 5e3, 1e4, 5e4, 1e5],\n",
    "          'gamma': [0.0001, 0.0005, 0.001, 0.005, 0.01, 0.1],\n",
    "          }\n",
    "\n",
    "# for sklearn version 0.16 or prior, the class_weight parameter value is 'auto'\n",
    "clf = GridSearchCV(SVC(kernel='rbf',class_weight='balanced', random_state=42), param_grid)\n",
    "clf = clf.fit(X_train_pca, y_train)\n",
    "\n",
    "print(\"Best estimator found by grid search:\")\n",
    "print(clf.best_estimator_)"
   ]
  },
  {
   "cell_type": "markdown",
   "metadata": {},
   "source": [
    "## 用测试集评估模型质量\n",
    "\n",
    "#### 1. 分类报告\n",
    "训练好分类器后，我们在测试数据集上运行该分类器，并定性地评估结果。Sklearn 的[分类报告](http://scikit-learn.org/stable/modules/generated/sklearn.metrics.classification_report.html)显示了每个类别的一些主要分类指标。"
   ]
  },
  {
   "cell_type": "code",
   "execution_count": 16,
   "metadata": {},
   "outputs": [
    {
     "name": "stdout",
     "output_type": "stream",
     "text": [
      "                   precision    recall  f1-score   support\n",
      "\n",
      "     Ariel Sharon       0.56      0.69      0.62        13\n",
      "     Colin Powell       0.74      0.87      0.80        60\n",
      "  Donald Rumsfeld       0.76      0.81      0.79        27\n",
      "    George W Bush       0.93      0.87      0.90       146\n",
      "Gerhard Schroeder       0.76      0.76      0.76        25\n",
      "      Hugo Chavez       0.73      0.53      0.62        15\n",
      "       Tony Blair       0.88      0.83      0.86        36\n",
      "\n",
      "        micro avg       0.83      0.83      0.83       322\n",
      "        macro avg       0.77      0.77      0.76       322\n",
      "     weighted avg       0.84      0.83      0.83       322\n",
      "\n"
     ]
    }
   ],
   "source": [
    "y_pred = clf.predict(X_test_pca)\n",
    "\n",
    "print(classification_report(y_test, y_pred, target_names=target_names))"
   ]
  },
  {
   "cell_type": "markdown",
   "metadata": {},
   "source": [
    "#### 2. 混淆矩阵\n",
    "\n",
    "查看分类器效果的另一种方式是查看[混淆矩阵](http://www.dataschool.io/simple-guide-to-confusion-matrix-terminology/)。为此，我们可以直接调用 [sklearn.metrics.confusion_matrix](http://scikit-learn.org/stable/modules/generated/sklearn.metrics.confusion_matrix.html)："
   ]
  },
  {
   "cell_type": "code",
   "execution_count": 19,
   "metadata": {},
   "outputs": [
    {
     "name": "stdout",
     "output_type": "stream",
     "text": [
      "[[  9   0   3   1   0   0   0]\n",
      " [  2  52   1   4   0   1   0]\n",
      " [  4   0  22   1   0   0   0]\n",
      " [  1  11   2 127   3   1   1]\n",
      " [  0   2   0   1  19   1   2]\n",
      " [  0   3   0   1   2   8   1]\n",
      " [  0   2   1   2   1   0  30]]\n"
     ]
    }
   ],
   "source": [
    "print(confusion_matrix(y_test, y_pred, labels=range(n_classes)))"
   ]
  },
  {
   "cell_type": "markdown",
   "metadata": {},
   "source": [
    "#### 3. 绘制最显著的特征脸"
   ]
  },
  {
   "cell_type": "code",
   "execution_count": 22,
   "metadata": {},
   "outputs": [
    {
     "data": {
      "image/png": "[encoded data removed]",
      "text/plain": [
       "<Figure size 518.4x518.4 with 12 Axes>"
      ]
     },
     "metadata": {},
     "output_type": "display_data"
    }
   ],
   "source": [
    "def plot_gallery(images, titles, h, w, n_row=3, n_col=4):\n",
    "    \"\"\"help function to plot a gallery of portraits\"\"\"\n",
    "    pl.figure(figsize=(1.8*n_col, 2.4*n_row))\n",
    "    pl.subplots_adjust(bottom=0, left=.01, right=.99, hspace=.35)\n",
    "    for i in range(n_row * n_col):\n",
    "        pl.subplot(n_row, n_col, i+1)\n",
    "        pl.imshow(images[i].reshape((h, w)), cmap=pl.cm.gray)\n",
    "        pl.title(titles[i], size=12)\n",
    "        pl.xticks(())\n",
    "        pl.yticks(())\n",
    "        \n",
    "# plot the result of the prediction on a portion of the test set\n",
    "def title(y_pred, y_test, target_names, i):\n",
    "    pred_name = target_names[y_pred[i]].rsplit(' ', 1)[-1]\n",
    "    true_name = target_names[y_test[i]].rsplit(' ', 1)[-1]\n",
    "    return ('predicted: %s\\ntrue: %s' % (pred_name, true_name))\n",
    "\n",
    "prediction_titles = [title(y_pred, y_test, target_names, i) for i in range(y_pred.shape[0])]\n",
    "\n",
    "plot_gallery(X_test, prediction_titles, h, w)\n",
    "\n",
    "pl.show()"
   ]
  },
  {
   "cell_type": "code",
   "execution_count": 23,
   "metadata": {},
   "outputs": [
    {
     "data": {
      "image/png": "[encoded data removed]",
      "text/plain": [
       "<Figure size 518.4x518.4 with 12 Axes>"
      ]
     },
     "metadata": {},
     "output_type": "display_data"
    }
   ],
   "source": [
    "eigenface_titles = [\"eigenface %d\" % i for i in range(eigenfaces.shape[0])]\n",
    "plot_gallery(eigenfaces, eigenface_titles, h, w)\n",
    "\n",
    "pl.show()"
   ]
  },
  {
   "cell_type": "markdown",
   "metadata": {},
   "source": [
    "## 练习：每个主成分的可释方差\n",
    "\n",
    "我们提到 PCA 将对主成分排序，第一个主成分会显示最大方差的方向，第二个主成分具有第二大方差，等等。第一个主成分解释了多少方差？第二个呢？"
   ]
  },
  {
   "cell_type": "code",
   "execution_count": 25,
   "metadata": {},
   "outputs": [
    {
     "name": "stdout",
     "output_type": "stream",
     "text": [
      "[501418.4  391794.56]\n"
     ]
    }
   ],
   "source": [
    "explained_variance = pca.explained_variance_\n",
    "print(explained_variance[:2])"
   ]
  },
  {
   "cell_type": "markdown",
   "metadata": {},
   "source": [
    " ## 练习：要使用多少个主成分？\n",
    "\n",
    "现在你将实验不同数量的主成分。在多类别分类问题（例如此问题，要应用 2 个以上的标签）中，准确率指标没有二类别问题的准确率指标直观。相反，我们将使用一个热门指标，即 F1 分数。\n",
    "\n",
    "我们将在关于评估指标的课程中深入了解 F1 分数，但是你自己将明白好的分类器的 F1 分数是高还是低。你将通过改变主成分的数量，观察 F1 分数会如何变化。\n",
    "\n",
    "当你添加更多主成分（作为特征）来训练分类器时，你认为分类器的效果会更好还是更差？"
   ]
  },
  {
   "cell_type": "markdown",
   "metadata": {},
   "source": [
    "## 练习：F1 分数与所使用的主成分数量\n",
    "\n",
    "将 n_components 更改为以下值：[10、15、25、50、100、250]。对于每个主成分数量，注意 Ariel Sharon 的 F1 分数。（对于 10 个主成分，代码中的绘制函数将崩溃，但是你应该能够看到 F1 分数。）如果你看到更高的 F1 分数，是否意味着分类器的效果更好或更差？\n"
   ]
  },
  {
   "cell_type": "code",
   "execution_count": 29,
   "metadata": {},
   "outputs": [
    {
     "name": "stdout",
     "output_type": "stream",
     "text": [
      "n_components = 10, calssification report:\n",
      "\n",
      "training:\n",
      "                   precision    recall  f1-score   support\n",
      "\n",
      "     Ariel Sharon       1.00      1.00      1.00        64\n",
      "     Colin Powell       1.00      1.00      1.00       176\n",
      "  Donald Rumsfeld       1.00      1.00      1.00        94\n",
      "    George W Bush       1.00      1.00      1.00       384\n",
      "Gerhard Schroeder       1.00      1.00      1.00        84\n",
      "      Hugo Chavez       1.00      1.00      1.00        56\n",
      "       Tony Blair       1.00      1.00      1.00       108\n",
      "\n",
      "        micro avg       1.00      1.00      1.00       966\n",
      "        macro avg       1.00      1.00      1.00       966\n",
      "     weighted avg       1.00      1.00      1.00       966\n",
      "\n",
      "testing: \n",
      "                   precision    recall  f1-score   support\n",
      "\n",
      "     Ariel Sharon       0.10      0.15      0.12        13\n",
      "     Colin Powell       0.43      0.53      0.48        60\n",
      "  Donald Rumsfeld       0.26      0.33      0.30        27\n",
      "    George W Bush       0.66      0.58      0.62       146\n",
      "Gerhard Schroeder       0.17      0.20      0.18        25\n",
      "      Hugo Chavez       0.25      0.13      0.17        15\n",
      "       Tony Blair       0.50      0.39      0.44        36\n",
      "\n",
      "        micro avg       0.46      0.46      0.46       322\n",
      "        macro avg       0.34      0.33      0.33       322\n",
      "     weighted avg       0.49      0.46      0.47       322\n",
      "\n",
      "n_components = 15, calssification report:\n",
      "\n",
      "training:\n",
      "                   precision    recall  f1-score   support\n",
      "\n",
      "     Ariel Sharon       0.81      0.94      0.87        64\n",
      "     Colin Powell       0.82      0.90      0.86       176\n",
      "  Donald Rumsfeld       0.89      0.93      0.91        94\n",
      "    George W Bush       0.98      0.83      0.90       384\n",
      "Gerhard Schroeder       0.86      0.98      0.92        84\n",
      "      Hugo Chavez       0.95      0.98      0.96        56\n",
      "       Tony Blair       0.85      0.95      0.90       108\n",
      "\n",
      "        micro avg       0.89      0.89      0.89       966\n",
      "        macro avg       0.88      0.93      0.90       966\n",
      "     weighted avg       0.90      0.89      0.89       966\n",
      "\n",
      "testing: \n",
      "                   precision    recall  f1-score   support\n",
      "\n",
      "     Ariel Sharon       0.25      0.46      0.32        13\n",
      "     Colin Powell       0.67      0.75      0.71        60\n",
      "  Donald Rumsfeld       0.48      0.59      0.53        27\n",
      "    George W Bush       0.85      0.68      0.75       146\n",
      "Gerhard Schroeder       0.41      0.48      0.44        25\n",
      "      Hugo Chavez       0.46      0.40      0.43        15\n",
      "       Tony Blair       0.51      0.56      0.53        36\n",
      "\n",
      "        micro avg       0.63      0.63      0.63       322\n",
      "        macro avg       0.52      0.56      0.53       322\n",
      "     weighted avg       0.67      0.63      0.65       322\n",
      "\n",
      "n_components = 25, calssification report:\n",
      "\n",
      "training:\n",
      "                   precision    recall  f1-score   support\n",
      "\n",
      "     Ariel Sharon       1.00      1.00      1.00        64\n",
      "     Colin Powell       1.00      1.00      1.00       176\n",
      "  Donald Rumsfeld       1.00      1.00      1.00        94\n",
      "    George W Bush       1.00      1.00      1.00       384\n",
      "Gerhard Schroeder       1.00      1.00      1.00        84\n",
      "      Hugo Chavez       1.00      1.00      1.00        56\n",
      "       Tony Blair       1.00      1.00      1.00       108\n",
      "\n",
      "        micro avg       1.00      1.00      1.00       966\n",
      "        macro avg       1.00      1.00      1.00       966\n",
      "     weighted avg       1.00      1.00      1.00       966\n",
      "\n",
      "testing: \n",
      "                   precision    recall  f1-score   support\n",
      "\n",
      "     Ariel Sharon       0.56      0.69      0.62        13\n",
      "     Colin Powell       0.74      0.87      0.80        60\n",
      "  Donald Rumsfeld       0.48      0.52      0.50        27\n",
      "    George W Bush       0.86      0.82      0.84       146\n",
      "Gerhard Schroeder       0.58      0.56      0.57        25\n",
      "      Hugo Chavez       0.90      0.60      0.72        15\n",
      "       Tony Blair       0.68      0.64      0.66        36\n",
      "\n",
      "        micro avg       0.75      0.75      0.75       322\n",
      "        macro avg       0.69      0.67      0.67       322\n",
      "     weighted avg       0.76      0.75      0.75       322\n",
      "\n",
      "n_components = 50, calssification report:\n",
      "\n",
      "training:\n",
      "                   precision    recall  f1-score   support\n",
      "\n",
      "     Ariel Sharon       1.00      1.00      1.00        64\n",
      "     Colin Powell       1.00      1.00      1.00       176\n",
      "  Donald Rumsfeld       1.00      1.00      1.00        94\n",
      "    George W Bush       1.00      1.00      1.00       384\n",
      "Gerhard Schroeder       1.00      1.00      1.00        84\n",
      "      Hugo Chavez       1.00      1.00      1.00        56\n",
      "       Tony Blair       1.00      1.00      1.00       108\n",
      "\n",
      "        micro avg       1.00      1.00      1.00       966\n",
      "        macro avg       1.00      1.00      1.00       966\n",
      "     weighted avg       1.00      1.00      1.00       966\n",
      "\n",
      "testing: \n",
      "                   precision    recall  f1-score   support\n",
      "\n",
      "     Ariel Sharon       0.59      0.77      0.67        13\n",
      "     Colin Powell       0.83      0.92      0.87        60\n",
      "  Donald Rumsfeld       0.68      0.56      0.61        27\n",
      "    George W Bush       0.87      0.90      0.88       146\n",
      "Gerhard Schroeder       0.75      0.72      0.73        25\n",
      "      Hugo Chavez       0.77      0.67      0.71        15\n",
      "       Tony Blair       0.86      0.69      0.77        36\n",
      "\n",
      "        micro avg       0.82      0.82      0.82       322\n",
      "        macro avg       0.76      0.75      0.75       322\n",
      "     weighted avg       0.82      0.82      0.82       322\n",
      "\n",
      "n_components = 100, calssification report:\n",
      "\n",
      "training:\n",
      "                   precision    recall  f1-score   support\n",
      "\n",
      "     Ariel Sharon       1.00      1.00      1.00        64\n",
      "     Colin Powell       1.00      1.00      1.00       176\n",
      "  Donald Rumsfeld       1.00      1.00      1.00        94\n",
      "    George W Bush       1.00      1.00      1.00       384\n",
      "Gerhard Schroeder       1.00      1.00      1.00        84\n",
      "      Hugo Chavez       1.00      1.00      1.00        56\n",
      "       Tony Blair       1.00      1.00      1.00       108\n",
      "\n",
      "        micro avg       1.00      1.00      1.00       966\n",
      "        macro avg       1.00      1.00      1.00       966\n",
      "     weighted avg       1.00      1.00      1.00       966\n",
      "\n",
      "testing: \n",
      "                   precision    recall  f1-score   support\n",
      "\n",
      "     Ariel Sharon       0.64      0.69      0.67        13\n",
      "     Colin Powell       0.79      0.88      0.83        60\n",
      "  Donald Rumsfeld       0.82      0.67      0.73        27\n",
      "    George W Bush       0.88      0.94      0.91       146\n",
      "Gerhard Schroeder       0.87      0.80      0.83        25\n",
      "      Hugo Chavez       0.90      0.60      0.72        15\n",
      "       Tony Blair       0.90      0.78      0.84        36\n",
      "\n",
      "        micro avg       0.85      0.85      0.85       322\n",
      "        macro avg       0.83      0.77      0.79       322\n",
      "     weighted avg       0.85      0.85      0.85       322\n",
      "\n",
      "n_components = 250, calssification report:\n",
      "\n",
      "training:\n",
      "                   precision    recall  f1-score   support\n",
      "\n",
      "     Ariel Sharon       1.00      1.00      1.00        64\n",
      "     Colin Powell       1.00      1.00      1.00       176\n",
      "  Donald Rumsfeld       1.00      1.00      1.00        94\n",
      "    George W Bush       1.00      1.00      1.00       384\n",
      "Gerhard Schroeder       1.00      1.00      1.00        84\n",
      "      Hugo Chavez       1.00      1.00      1.00        56\n",
      "       Tony Blair       1.00      1.00      1.00       108\n",
      "\n",
      "        micro avg       1.00      1.00      1.00       966\n",
      "        macro avg       1.00      1.00      1.00       966\n",
      "     weighted avg       1.00      1.00      1.00       966\n",
      "\n",
      "testing: \n",
      "                   precision    recall  f1-score   support\n",
      "\n",
      "     Ariel Sharon       0.64      0.69      0.67        13\n",
      "     Colin Powell       0.75      0.90      0.82        60\n",
      "  Donald Rumsfeld       0.82      0.67      0.73        27\n",
      "    George W Bush       0.91      0.92      0.91       146\n",
      "Gerhard Schroeder       0.87      0.80      0.83        25\n",
      "      Hugo Chavez       0.80      0.53      0.64        15\n",
      "       Tony Blair       0.82      0.78      0.80        36\n",
      "\n",
      "        micro avg       0.84      0.84      0.84       322\n",
      "        macro avg       0.80      0.76      0.77       322\n",
      "     weighted avg       0.84      0.84      0.84       322\n",
      "\n"
     ]
    },
    {
     "name": "stdout",
     "output_type": "stream",
     "text": [
      "n_components = 500, calssification report:\n",
      "\n",
      "training:\n",
      "                   precision    recall  f1-score   support\n",
      "\n",
      "     Ariel Sharon       1.00      1.00      1.00        64\n",
      "     Colin Powell       1.00      1.00      1.00       176\n",
      "  Donald Rumsfeld       1.00      1.00      1.00        94\n",
      "    George W Bush       1.00      1.00      1.00       384\n",
      "Gerhard Schroeder       1.00      1.00      1.00        84\n",
      "      Hugo Chavez       1.00      1.00      1.00        56\n",
      "       Tony Blair       1.00      1.00      1.00       108\n",
      "\n",
      "        micro avg       1.00      1.00      1.00       966\n",
      "        macro avg       1.00      1.00      1.00       966\n",
      "     weighted avg       1.00      1.00      1.00       966\n",
      "\n",
      "testing: \n",
      "                   precision    recall  f1-score   support\n",
      "\n",
      "     Ariel Sharon       0.57      0.92      0.71        13\n",
      "     Colin Powell       0.67      0.88      0.76        60\n",
      "  Donald Rumsfeld       0.63      0.63      0.63        27\n",
      "    George W Bush       0.85      0.77      0.81       146\n",
      "Gerhard Schroeder       0.62      0.52      0.57        25\n",
      "      Hugo Chavez       0.67      0.53      0.59        15\n",
      "       Tony Blair       0.77      0.64      0.70        36\n",
      "\n",
      "        micro avg       0.74      0.74      0.74       322\n",
      "        macro avg       0.68      0.70      0.68       322\n",
      "     weighted avg       0.75      0.74      0.74       322\n",
      "\n",
      "n_components = 800, calssification report:\n",
      "\n",
      "training:\n",
      "                   precision    recall  f1-score   support\n",
      "\n",
      "     Ariel Sharon       1.00      1.00      1.00        64\n",
      "     Colin Powell       1.00      1.00      1.00       176\n",
      "  Donald Rumsfeld       1.00      1.00      1.00        94\n",
      "    George W Bush       1.00      1.00      1.00       384\n",
      "Gerhard Schroeder       1.00      1.00      1.00        84\n",
      "      Hugo Chavez       1.00      1.00      1.00        56\n",
      "       Tony Blair       1.00      1.00      1.00       108\n",
      "\n",
      "        micro avg       1.00      1.00      1.00       966\n",
      "        macro avg       1.00      1.00      1.00       966\n",
      "     weighted avg       1.00      1.00      1.00       966\n",
      "\n",
      "testing: \n",
      "                   precision    recall  f1-score   support\n",
      "\n",
      "     Ariel Sharon       0.45      0.77      0.57        13\n",
      "     Colin Powell       0.55      0.78      0.65        60\n",
      "  Donald Rumsfeld       0.35      0.63      0.45        27\n",
      "    George W Bush       0.95      0.60      0.74       146\n",
      "Gerhard Schroeder       0.50      0.48      0.49        25\n",
      "      Hugo Chavez       0.62      0.53      0.57        15\n",
      "       Tony Blair       0.56      0.56      0.56        36\n",
      "\n",
      "        micro avg       0.63      0.63      0.63       322\n",
      "        macro avg       0.57      0.62      0.57       322\n",
      "     weighted avg       0.71      0.63      0.64       322\n",
      "\n"
     ]
    }
   ],
   "source": [
    "from sklearn.metrics import f1_score\n",
    "\n",
    "n_components=[10, 15, 25, 50, 100, 250, 500, 800]\n",
    "\n",
    "def n_components_f1_score(n_components, X_train, X_test, y_train, y_test, target_names):\n",
    "    \n",
    "    pca = PCA(n_components=n_components, random_state=42, svd_solver='randomized', whiten=True)\n",
    "    pca.fit(X_train)\n",
    "    \n",
    "    eigenfaces = pca.components_.reshape((n_components, h, w))\n",
    "    X_train_pca = pca.transform(X_train)\n",
    "    X_test_pca = pca.transform(X_test)\n",
    "    \n",
    "    param_grid = {\n",
    "             'C': [1e3, 5e3, 1e4, 5e4, 1e5],\n",
    "              'gamma': [0.0001, 0.0005, 0.001, 0.005, 0.01, 0.1],\n",
    "              }\n",
    "\n",
    "    # for sklearn version 0.16 or prior, the class_weight parameter value is 'auto'\n",
    "    clf = GridSearchCV(SVC(kernel='rbf',class_weight='balanced', random_state=42), param_grid, cv=5)\n",
    "    clf = clf.fit(X_train_pca, y_train)\n",
    "    \n",
    "    y_train_pred = clf.predict(X_train_pca)\n",
    "    y_pred = clf.predict(X_test_pca)\n",
    "    \n",
    "    print(\"n_components = %d, calssification report:\\n\" % n_components)\n",
    "    print(\"training:\")\n",
    "    print(classification_report(y_train, y_train_pred, target_names=target_names))\n",
    "    print(\"testing: \")\n",
    "    print(classification_report(y_test, y_pred, target_names=target_names))\n",
    "    \n",
    "    return\n",
    "\n",
    "for ii in n_components:\n",
    "    n_components_f1_score(ii, X_train, X_test, y_train, y_test, target_names)\n"
   ]
  },
  {
   "cell_type": "markdown",
   "metadata": {},
   "source": [
    "## 练习：降维和过拟合\n",
    "在使用很高数量的主成分时，是否看到任何过拟合现象？在这种情况下，PCA 降维是否能够改善效果？"
   ]
  },
  {
   "cell_type": "code",
   "execution_count": null,
   "metadata": {},
   "outputs": [],
   "source": []
  }
 ],
 "metadata": {
  "kernelspec": {
   "display_name": "python (base)",
   "language": "python",
   "name": "base"
  },
  "language_info": {
   "codemirror_mode": {
    "name": "ipython",
    "version": 3
   },
   "file_extension": ".py",
   "mimetype": "text/x-python",
   "name": "python",
   "nbconvert_exporter": "python",
   "pygments_lexer": "ipython3",
   "version": "3.7.3"
  }
 },
 "nbformat": 4,
 "nbformat_minor": 2
}
